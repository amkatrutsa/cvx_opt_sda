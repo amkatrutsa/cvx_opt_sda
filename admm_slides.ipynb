{
 "cells": [
  {
   "cell_type": "markdown",
   "metadata": {
    "slideshow": {
     "slide_type": "slide"
    }
   },
   "source": [
    "# Метод ADMM (alternating direction methods of multipliers)"
   ]
  },
  {
   "cell_type": "markdown",
   "metadata": {
    "slideshow": {
     "slide_type": "slide"
    }
   },
   "source": [
    "## На прошлом семинаре\n",
    "\n",
    "- Субградиентный метод: базовый метод решения негладких задач\n",
    "- Проксимальный метод и его свойства: альтернатива градиентному спуску\n",
    "- Проксимальный градиентный метод: заглядывание в чёрный ящик\n",
    "- Ускорение проксимального градиентного метода, ISTA и FISTA"
   ]
  },
  {
   "cell_type": "markdown",
   "metadata": {
    "slideshow": {
     "slide_type": "slide"
    }
   },
   "source": [
    "## План на сегодня\n",
    "\n",
    "- Использование Лагранжиана как модели целевой функции в задаче условной оптимизации\n",
    "- Чередование спуска и подъёма для решения минимаксной задачи\n",
    "- Регуляризация лагранжиана\n",
    "- ADMM "
   ]
  },
  {
   "cell_type": "markdown",
   "metadata": {
    "slideshow": {
     "slide_type": "slide"
    }
   },
   "source": [
    "## Двойственная задача: напоминание\n",
    "\n",
    "- Исходная задача\n",
    " \n",
    "\\begin{align*}\n",
    "& \\min f(x) \\\\\n",
    "\\text{s.t. } & Ax = b\n",
    "\\end{align*}\n",
    "\n",
    "- Лагранжиан\n",
    "\n",
    "$$\n",
    "L(x, \\lambda) = f(x) + \\lambda^{\\top}(Ax - b)\n",
    "$$\n",
    "\n",
    "- Двойственная задача\n",
    "\n",
    "$$\n",
    "\\max_{\\lambda} g(\\lambda), \n",
    "$$\n",
    " \n",
    "где $g(\\lambda) = \\inf_x L(x, \\lambda)$\n",
    "\n",
    "- Восстановление решения исходной заадчи\n",
    "\n",
    "$$\n",
    "x^* = \\arg\\min_x L(x, \\lambda^*)\n",
    "$$"
   ]
  },
  {
   "cell_type": "markdown",
   "metadata": {
    "slideshow": {
     "slide_type": "slide"
    }
   },
   "source": [
    "## Решение двойственной задачи\n",
    "\n",
    "- Градиентный подъём, так как задача без ограничений\n",
    "\n",
    "$$\n",
    "\\lambda_{k+1} = \\lambda_k + \\alpha_k g'(\\lambda_k)\n",
    "$$\n",
    "\n",
    "- При этом градиент двойственной функции \n",
    "\n",
    "$$\n",
    "g'(\\lambda_k) = A\\hat{x} - b,\n",
    "$$\n",
    "\n",
    "где $\\hat{x} = \\arg\\min_x L(x, \\lambda_k)$\n",
    "\n",
    "- Объединим два шага в один и получим \n",
    "\n",
    "\\begin{align*}\n",
    "& x_{k+1} = \\arg\\min_x L(x, \\lambda_k)\\\\\n",
    "& \\lambda_{k+1} = \\lambda_k + \\alpha_k (Ax_{k+1} - b)\n",
    "\\end{align*}"
   ]
  },
  {
   "cell_type": "code",
   "execution_count": 2,
   "metadata": {
    "slideshow": {
     "slide_type": "slide"
    }
   },
   "outputs": [],
   "source": [
    "import numpy as np\n",
    "import matplotlib.pyplot as plt\n",
    "%matplotlib inline\n",
    "plt.rc(\"text\", usetex=True)\n",
    "import cvxpy as cvx\n",
    "\n",
    "def dual_ascent(update_x, A, b, alpha, x0, lambda0, max_iter):\n",
    "    x = x0.copy()\n",
    "    lam = lambda0.copy()\n",
    "    conv_x = [x]\n",
    "    conv_lam = [lam]\n",
    "    for i in range(max_iter):\n",
    "        x = update_x(x, lam, A, b)\n",
    "        lam = lam + alpha * (A @ x - b)\n",
    "        conv_x.append(x.copy())\n",
    "        conv_lam.append(lam.copy())\n",
    "    return x, lam, conv_x, conv_lam"
   ]
  },
  {
   "cell_type": "markdown",
   "metadata": {
    "slideshow": {
     "slide_type": "slide"
    }
   },
   "source": [
    "### Модельный пример\n",
    "\n",
    "\\begin{align*}\n",
    "& \\min \\frac{1}{2}x^{\\top}Px - c^{\\top}x\\\\\n",
    "\\text{s.t. } & Ax = b\n",
    "\\end{align*}\n",
    "\n",
    "- Лагранжиан $L(x, \\lambda) = \\frac{1}{2}x^{\\top}Px - c^{\\top}x + \\lambda^{\\top}(Ax - b)$\n",
    "- Обновление прямых переменных \n",
    "\n",
    "$$\n",
    "x_{k+1} = P^{-1}(c - A^{\\top}\\lambda_k)\n",
    "$$"
   ]
  },
  {
   "cell_type": "code",
   "execution_count": 3,
   "metadata": {
    "slideshow": {
     "slide_type": "slide"
    }
   },
   "outputs": [
    {
     "name": "stdout",
     "output_type": "stream",
     "text": [
      "0.0033592481798379145\n",
      "-----------------------------------------------------------------\n",
      "           OSQP v0.6.0  -  Operator Splitting QP Solver\n",
      "              (c) Bartolomeo Stellato,  Goran Banjac\n",
      "        University of Oxford  -  Stanford University 2019\n",
      "-----------------------------------------------------------------\n",
      "problem:  variables n = 20, constraints m = 10\n",
      "          nnz(P) + nnz(A) = 410\n",
      "settings: linear system solver = qdldl,\n",
      "          eps_abs = 1.0e-05, eps_rel = 1.0e-05,\n",
      "          eps_prim_inf = 1.0e-04, eps_dual_inf = 1.0e-04,\n",
      "          rho = 1.00e-01 (adaptive),\n",
      "          sigma = 1.00e-06, alpha = 1.60, max_iter = 10000\n",
      "          check_termination: on (interval 25),\n",
      "          scaling: on, scaled_termination: off\n",
      "          warm start: on, polish: on, time_limit: off\n",
      "\n",
      "iter   objective    pri res    dua res    rho        time\n",
      "   1  -1.2118e-01   1.59e+00   1.65e+03   1.00e-01   1.99e-04s\n",
      "  50   8.7852e+00   2.41e-09   2.23e-08   1.00e-01   3.72e-04s\n",
      "plsh   8.7852e+00   4.62e-16   7.35e-15   --------   5.10e-04s\n",
      "\n",
      "status:               solved\n",
      "solution polish:      successful\n",
      "number of iterations: 50\n",
      "optimal objective:    8.7852\n",
      "run time:             5.10e-04s\n",
      "optimal rho estimate: 8.67e-02\n",
      "\n",
      "9.663764432318136e-16\n",
      "8.785171111372032\n"
     ]
    }
   ],
   "source": [
    "m, n = 10, 20\n",
    "A = np.random.randn(m, n)\n",
    "b = np.random.randn(m)\n",
    "P = np.random.randn(n, n)\n",
    "P = P.T @ P\n",
    "c = np.random.randn(n)\n",
    "spec = np.linalg.eigvalsh(P)\n",
    "mu = spec.min()\n",
    "print(mu)\n",
    "\n",
    "x = cvx.Variable(n)\n",
    "obj = 0.5 * cvx.quad_form(x, P) - c @ x\n",
    "problem = cvx.Problem(cvx.Minimize(obj), [A @ x == b])\n",
    "problem.solve(verbose=True)\n",
    "print(np.linalg.norm(A @ x.value - b))\n",
    "print(problem.value)"
   ]
  },
  {
   "cell_type": "code",
   "execution_count": 12,
   "metadata": {
    "slideshow": {
     "slide_type": "slide"
    }
   },
   "outputs": [
    {
     "name": "stdout",
     "output_type": "stream",
     "text": [
      "0.008317916389937122\n",
      "8.70299165004184\n"
     ]
    }
   ],
   "source": [
    "x0 = np.random.randn(n)\n",
    "lam0 = np.random.randn(m)\n",
    "\n",
    "max_iter = 400000\n",
    "alpha = 1e-4\n",
    "\n",
    "def f(x):\n",
    "    return 0.5 * x @ P @ x - c @ x\n",
    "\n",
    "def L(x, lam):\n",
    "    return f(x) + lam @ (A @ x - b)\n",
    "\n",
    "def update_x(x, lam, A, b):\n",
    "    return np.linalg.solve(P, c - A.T @ lam)\n",
    "\n",
    "x_da, lam_da, conv_x_da, conv_lam_da = dual_ascent(update_x, A, b, alpha, x0, lam0, max_iter)\n",
    "print(np.linalg.norm(A @ x_da - b))\n",
    "print(0.5 * x_da @ P @ x_da - c @ x_da)"
   ]
  },
  {
   "cell_type": "code",
   "execution_count": 13,
   "metadata": {
    "slideshow": {
     "slide_type": "slide"
    }
   },
   "outputs": [
    {
     "data": {
      "text/plain": [
       "(array([-100.,    0.,  100.,  200.,  300.,  400.,  500.]),\n",
       " <a list of 7 Text yticklabel objects>)"
      ]
     },
     "execution_count": 13,
     "metadata": {},
     "output_type": "execute_result"
    },
    {
     "data": {
      "image/png": "[encoded data removed]",
      "text/plain": [
       "<Figure size 432x288 with 1 Axes>"
      ]
     },
     "metadata": {},
     "output_type": "display_data"
    }
   ],
   "source": [
    "plt.plot([f(x) for x in conv_x_da], label=\"Objective\")\n",
    "plt.plot(problem.value * np.ones(len(conv_x_da)), label=\"Traget value\")\n",
    "# plt.yscale(\"log\")\n",
    "plt.xscale(\"log\")\n",
    "plt.legend(fontsize=20)\n",
    "plt.xlabel(\"\\# iterations\", fontsize=20)\n",
    "plt.xticks(fontsize=20)\n",
    "plt.yticks(fontsize=20)"
   ]
  },
  {
   "cell_type": "code",
   "execution_count": 15,
   "metadata": {
    "slideshow": {
     "slide_type": "slide"
    }
   },
   "outputs": [
    {
     "data": {
      "image/png": "[encoded data removed]",
      "text/plain": [
       "<Figure size 432x288 with 1 Axes>"
      ]
     },
     "metadata": {},
     "output_type": "display_data"
    }
   ],
   "source": [
    "plt.plot([L(x, lam) for x, lam in zip(conv_x_da, conv_lam_da)], \n",
    "         label=\"Lagrangian\")\n",
    "plt.legend(fontsize=20)\n",
    "plt.xlabel(\"\\# iterations\", fontsize=20)\n",
    "plt.xscale(\"log\")"
   ]
  },
  {
   "cell_type": "code",
   "execution_count": 17,
   "metadata": {
    "slideshow": {
     "slide_type": "slide"
    }
   },
   "outputs": [
    {
     "data": {
      "image/png": "[encoded data removed]",
      "text/plain": [
       "<Figure size 432x288 with 1 Axes>"
      ]
     },
     "metadata": {},
     "output_type": "display_data"
    }
   ],
   "source": [
    "plt.semilogy([np.linalg.norm(A @ x - b) for x in conv_x_da], label=\"$\\|Ax - b\\|_2$\")\n",
    "plt.legend(fontsize=20)\n",
    "plt.xlabel(\"\\# iterations\", fontsize=20)\n",
    "plt.xticks(fontsize=20)\n",
    "plt.yticks(fontsize=20)\n",
    "plt.grid(True)\n",
    "plt.xscale(\"log\")"
   ]
  },
  {
   "cell_type": "markdown",
   "metadata": {
    "slideshow": {
     "slide_type": "slide"
    }
   },
   "source": [
    "### Важный частный случай\n",
    "\n",
    "- Функция сепарабельна\n",
    "- Обновление $x$ распадается на параллельные задачи по каждой координате"
   ]
  },
  {
   "cell_type": "markdown",
   "metadata": {
    "slideshow": {
     "slide_type": "slide"
    }
   },
   "source": [
    "## Явный учёт наличия ограничений - регуляризация Лагранжиана\n",
    "\n",
    "$$\n",
    "L_{\\rho}(x, \\lambda) = f(x) + \\lambda^{\\top}(Ax - b) + \\frac{\\rho}{2} \\|Ax - b\\|_2^2\n",
    "$$\n",
    "\n",
    "- Теперь метод примет вид\n",
    "\n",
    "\\begin{align*}\n",
    "& x_{k+1} = \\arg\\min_x L_{\\rho}(x, \\lambda_k)\\\\\n",
    "& \\lambda_{k+1} = \\lambda_k + \\rho (Ax_{k+1} - b)\n",
    "\\end{align*}\n",
    "\n",
    "- Возможны изменения $\\rho$ в процессе сходимости\n",
    "- Замена $\\alpha_k$ на $\\rho$ связаны с условиями оптимальности"
   ]
  },
  {
   "cell_type": "code",
   "execution_count": 18,
   "metadata": {
    "slideshow": {
     "slide_type": "slide"
    }
   },
   "outputs": [],
   "source": [
    "def augmented_lagrangian(update_x, A, b, rho0, x0, lambda0, max_iter):\n",
    "    x = x0.copy()\n",
    "    lam = lambda0.copy()\n",
    "    conv_x = [x]\n",
    "    conv_lam = [lam]\n",
    "    rho = rho0\n",
    "    for i in range(max_iter):\n",
    "        x = update_x(x, lam, A, b)\n",
    "        lam = lam + rho * (A @ x - b)\n",
    "        conv_x.append(x.copy())\n",
    "        conv_lam.append(lam.copy())\n",
    "    return x, lam, conv_x, conv_lam"
   ]
  },
  {
   "cell_type": "code",
   "execution_count": 31,
   "metadata": {
    "slideshow": {
     "slide_type": "slide"
    }
   },
   "outputs": [
    {
     "name": "stdout",
     "output_type": "stream",
     "text": [
      "6.60471901297632e-16\n",
      "0.0\n"
     ]
    }
   ],
   "source": [
    "def update_x_al(x, lam, A, b):\n",
    "    return np.linalg.solve(P + rho * A.T @ A, c - A.T @ lam + A.T @ b)\n",
    "\n",
    "rho = 1000\n",
    "max_iter = 10\n",
    "x_al, lam_al, conv_x_al, conv_lam_al = augmented_lagrangian(update_x_al, A, b, rho, x0, lam0, max_iter)\n",
    "print(np.linalg.norm(A @ x_al - b))\n",
    "print(0.5 * x_al @ P @ x_al - c @ x_al - problem.value)"
   ]
  },
  {
   "cell_type": "code",
   "execution_count": 32,
   "metadata": {
    "slideshow": {
     "slide_type": "slide"
    }
   },
   "outputs": [
    {
     "data": {
      "text/plain": [
       "Text(0, 0.5, 'Objective')"
      ]
     },
     "execution_count": 32,
     "metadata": {},
     "output_type": "execute_result"
    },
    {
     "data": {
      "image/png": "[encoded data removed]",
      "text/plain": [
       "<Figure size 432x288 with 1 Axes>"
      ]
     },
     "metadata": {},
     "output_type": "display_data"
    }
   ],
   "source": [
    "plt.plot([f(x) for x in conv_x_da], label=\"DA\")\n",
    "plt.plot([f(x) for x in conv_x_al], label=\"AL\")\n",
    "# plt.yscale(\"log\")\n",
    "plt.xscale(\"log\")\n",
    "plt.legend(fontsize=20)\n",
    "plt.xlabel(\"\\# iterations\", fontsize=20)\n",
    "plt.ylabel(\"Objective\", fontsize=20)"
   ]
  },
  {
   "cell_type": "code",
   "execution_count": 33,
   "metadata": {
    "slideshow": {
     "slide_type": "slide"
    }
   },
   "outputs": [
    {
     "data": {
      "text/plain": [
       "Text(0.5, 0, 'Lagrangian')"
      ]
     },
     "execution_count": 33,
     "metadata": {},
     "output_type": "execute_result"
    },
    {
     "data": {
      "image/png": "[encoded data removed]",
      "text/plain": [
       "<Figure size 432x288 with 1 Axes>"
      ]
     },
     "metadata": {},
     "output_type": "display_data"
    }
   ],
   "source": [
    "plt.plot([L(x, lam) for x, lam in zip(conv_x_da, conv_lam_da)], \n",
    "         label=\"DA\")\n",
    "plt.plot([L(x, lam) for x, lam in zip(conv_x_al, conv_lam_al)], \n",
    "         label=\"AL\")\n",
    "plt.legend(fontsize=20)\n",
    "plt.xscale(\"log\")\n",
    "plt.xlabel(\"\\# iterations\", fontsize=20)\n",
    "plt.xlabel(\"Lagrangian\", fontsize=20)"
   ]
  },
  {
   "cell_type": "code",
   "execution_count": 34,
   "metadata": {
    "slideshow": {
     "slide_type": "slide"
    }
   },
   "outputs": [
    {
     "data": {
      "text/plain": [
       "(array([1.e-02, 1.e-01, 1.e+00, 1.e+01, 1.e+02, 1.e+03, 1.e+04, 1.e+05,\n",
       "        1.e+06, 1.e+07]), <a list of 10 Text xticklabel objects>)"
      ]
     },
     "execution_count": 34,
     "metadata": {},
     "output_type": "execute_result"
    },
    {
     "data": {
      "image/png": "[encoded data removed]",
      "text/plain": [
       "<Figure size 432x288 with 1 Axes>"
      ]
     },
     "metadata": {},
     "output_type": "display_data"
    }
   ],
   "source": [
    "plt.semilogy([np.linalg.norm(A @ x - b) for x in conv_x_da], label=\"DA\")\n",
    "plt.semilogy([np.linalg.norm(A @ x - b) for x in conv_x_al], label=\"AL\")\n",
    "plt.legend(fontsize=20)\n",
    "plt.xscale(\"log\")\n",
    "plt.xlabel(\"\\# iterations\", fontsize=20)\n",
    "plt.ylabel(\"$\\|Ax - b\\|_2$\", fontsize=20)\n",
    "plt.yticks(fontsize=20)\n",
    "plt.xticks(fontsize=20)"
   ]
  },
  {
   "cell_type": "markdown",
   "metadata": {
    "slideshow": {
     "slide_type": "slide"
    }
   },
   "source": [
    "### Существенная проблема\n",
    "\n",
    "- Слагаемое $\\|Ax - b\\|_2^2$ сделало лагранжиан НЕсепарабельным!"
   ]
  },
  {
   "cell_type": "markdown",
   "metadata": {
    "slideshow": {
     "slide_type": "slide"
    }
   },
   "source": [
    "## Сделаем его сепарабельным и получим ADMM\n",
    "\n",
    "Задача станет такой\n",
    "\n",
    "\\begin{align*}\n",
    "& \\min f(x) + I_{Ax = b} (z)\\\\\n",
    "\\text{s.t. } & x = z\n",
    "\\end{align*}\n",
    "\n",
    "Для неё модифицированный лагранжиан примет вид\n",
    "\n",
    "$$\n",
    "L_{\\rho}(x, z, \\lambda) = f(x) + I_{Ax = b} (z) + \\lambda^{\\top}(x - z) + \\frac{\\rho}{2}\\|x - z\\|_2^2\n",
    "$$\n",
    "\n",
    "- Теперь метод примет вид\n",
    "\n",
    "\\begin{align*}\n",
    "& x_{k+1} = \\arg\\min_x L_{\\rho}(x, z_k, \\lambda_k)\\\\\n",
    "& z_{k+1} = \\arg\\min_z L_{\\rho}(x_{k+1}, z, \\lambda_k) \\\\\n",
    "& \\lambda_{k+1} = \\lambda_k + \\rho (x_{k+1} - z_{k+1})\n",
    "\\end{align*}\n",
    "- Обновление $z$ эквивалентно $\\pi_{Ax = b}(x_{k+1} + \\frac{\\lambda_k}{\\rho})$ "
   ]
  },
  {
   "cell_type": "code",
   "execution_count": 35,
   "metadata": {
    "slideshow": {
     "slide_type": "slide"
    }
   },
   "outputs": [],
   "source": [
    "def admm(update_x, update_z, rho0, x0, z0, lambda0, max_iter):\n",
    "    x = x0.copy()\n",
    "    z = z0.copy()\n",
    "    lam = lambda0.copy()\n",
    "    conv_x = [x]\n",
    "    conv_z = [z]\n",
    "    conv_lam = [lam]\n",
    "    rho = rho0\n",
    "    for i in range(max_iter):\n",
    "        x = update_x(x, z, lam, A, b)\n",
    "        z = update_z(x, z, lam, A, b)\n",
    "        lam = lam + rho * (x - z)\n",
    "        conv_x.append(x.copy())\n",
    "        conv_z.append(z.copy())\n",
    "        conv_lam.append(lam.copy())\n",
    "    return x, z, lam, conv_x, conv_z, conv_lam"
   ]
  },
  {
   "cell_type": "code",
   "execution_count": 36,
   "metadata": {
    "slideshow": {
     "slide_type": "slide"
    }
   },
   "outputs": [],
   "source": [
    "def update_x_admm(x, z, lam, A, b):\n",
    "    n = x.shape[0]\n",
    "    return np.linalg.solve(P + rho*np.eye(n), -lam + c + rho * z)\n",
    "\n",
    "def update_z_admm(x, z, lam, A, b):\n",
    "    x_hat = lam / rho + x\n",
    "    return x_hat - A.T @ np.linalg.solve(A @ A.T, A @ x_hat - b)"
   ]
  },
  {
   "cell_type": "code",
   "execution_count": 59,
   "metadata": {
    "slideshow": {
     "slide_type": "slide"
    }
   },
   "outputs": [
    {
     "name": "stdout",
     "output_type": "stream",
     "text": [
      "2.9654436872276462e-06\n",
      "1.3500286692570037e-05\n",
      "-1.9610705576766918e-05\n"
     ]
    }
   ],
   "source": [
    "z0 = np.random.randn(n)\n",
    "lam0 = np.random.randn(n)\n",
    "rho = 10\n",
    "maxiter = 50\n",
    "x_admm, z_admm, lam_admm, conv_x_admm, conv_z_admm, conv_lam_admm = admm(update_x_admm, \n",
    "                                                                         update_z_admm, \n",
    "                                                                         rho, x0, z0, lam0, \n",
    "                                                                         max_iter=maxiter)\n",
    "print(np.linalg.norm(x_admm - z_admm))\n",
    "print(np.linalg.norm(A @ x_admm - b))\n",
    "print(0.5 * x_admm @ P @ x_admm - c @ x_admm - problem.value)"
   ]
  },
  {
   "cell_type": "code",
   "execution_count": 60,
   "metadata": {
    "slideshow": {
     "slide_type": "slide"
    }
   },
   "outputs": [
    {
     "data": {
      "text/plain": [
       "(array([1.e-02, 1.e-01, 1.e+00, 1.e+01, 1.e+02, 1.e+03, 1.e+04, 1.e+05,\n",
       "        1.e+06, 1.e+07]), <a list of 10 Text xticklabel objects>)"
      ]
     },
     "execution_count": 60,
     "metadata": {},
     "output_type": "execute_result"
    },
    {
     "data": {
      "image/png": "[encoded data removed]",
      "text/plain": [
       "<Figure size 720x576 with 1 Axes>"
      ]
     },
     "metadata": {},
     "output_type": "display_data"
    }
   ],
   "source": [
    "plt.figure(figsize=(10, 8))\n",
    "plt.plot([f(x) for x in conv_x_da], label=\"DA\")\n",
    "plt.plot([f(x) for x in conv_x_al], label=\"AL\")\n",
    "plt.plot([f(x) for x in conv_x_admm], label=\"ADMM x\")\n",
    "plt.plot([f(z) for z in conv_z_admm], label=\"ADMM z\")\n",
    "# plt.yscale(\"log\")\n",
    "plt.xscale(\"log\")\n",
    "plt.legend(fontsize=20)\n",
    "plt.xlabel(\"\\# iterations\", fontsize=20)\n",
    "plt.ylabel(\"Objective\", fontsize=20)\n",
    "plt.grid(True)\n",
    "plt.yticks(fontsize=20)\n",
    "plt.xticks(fontsize=20)"
   ]
  },
  {
   "cell_type": "code",
   "execution_count": 61,
   "metadata": {
    "slideshow": {
     "slide_type": "slide"
    }
   },
   "outputs": [
    {
     "data": {
      "image/png": "[encoded data removed]",
      "text/plain": [
       "<Figure size 432x288 with 1 Axes>"
      ]
     },
     "metadata": {},
     "output_type": "display_data"
    }
   ],
   "source": [
    "plt.semilogy([np.linalg.norm(A @ x - b) for x in conv_x_da], label=\"DA\")\n",
    "plt.semilogy([np.linalg.norm(A @ x - b) for x in conv_x_al], label=\"AL\")\n",
    "plt.semilogy([np.linalg.norm(A @ x - b) for x in conv_x_admm], label=\"ADMM\")\n",
    "plt.legend(fontsize=20)\n",
    "plt.xscale(\"log\")\n",
    "plt.xlabel(\"\\# iterations\", fontsize=20)\n",
    "plt.ylabel(\"$\\|Ax - b\\|_2$\", fontsize=20)\n",
    "plt.grid(True)\n",
    "plt.yticks(fontsize=20)\n",
    "plt.show()"
   ]
  },
  {
   "cell_type": "code",
   "execution_count": 62,
   "metadata": {
    "slideshow": {
     "slide_type": "slide"
    }
   },
   "outputs": [
    {
     "data": {
      "image/png": "[encoded data removed]",
      "text/plain": [
       "<Figure size 432x288 with 1 Axes>"
      ]
     },
     "metadata": {},
     "output_type": "display_data"
    }
   ],
   "source": [
    "plt.semilogy([np.linalg.norm(x - z) for x, z in zip(conv_x_admm, conv_z_admm)])\n",
    "plt.grid(True)\n",
    "plt.xlabel(\"\\# iterations\", fontsize=20)\n",
    "plt.ylabel(\"$\\|x_k - z_k\\|_2$\", fontsize=20)\n",
    "plt.yticks(fontsize=20)\n",
    "plt.show()"
   ]
  },
  {
   "cell_type": "markdown",
   "metadata": {
    "slideshow": {
     "slide_type": "slide"
    }
   },
   "source": [
    "### Учтём, что все свойства сохранятся при аффинных преобразованиях\n",
    "\n",
    "- Тогда наша задача в общем виде может быть записана как\n",
    "\n",
    "\\begin{align*}\n",
    "& \\min f(x) + g(z)\\\\\n",
    "\\text{s.t. } & Ax + Bz = d\n",
    "\\end{align*}\n",
    "\n",
    "- Модифицированный лагранжиан для неё будет\n",
    "\n",
    "$$\n",
    "L_{\\rho}(x, z, \\lambda) = f(x) + g(z) + \\lambda^{\\top}(Ax + Bz - d) + \\frac{\\rho}{2}\\|Ax + Bz - d\\|_2^2\n",
    "$$\n",
    "- В этом случае сепарабельность по $z$ и $x$, но не внутри этих переменных\n",
    "- В итоге, после внесения линейного слагаемого в квадратичное получим\n",
    "\n",
    "\\begin{align*}\n",
    "& x_{k+1} = \\arg\\min_x \\left( f(x) + \\frac{\\rho}{2}\\|Ax + Bz_k - d + u_k \\|_2^2 \\right)\\\\\n",
    "& z_{k+1} = \\arg\\min_z  \\left( g(z) + \\frac{\\rho}{2}\\|Ax_{k+1} + Bz - d + u_k \\|_2^2 \\right)\\\\\n",
    "& u_{k+1} = u_k + x_{k+1} - z_{k+1},\n",
    "\\end{align*}\n",
    "где $u_k = \\lambda_k / \\rho$"
   ]
  },
  {
   "cell_type": "markdown",
   "metadata": {
    "slideshow": {
     "slide_type": "slide"
    }
   },
   "source": [
    "### Как это всё использовать?\n",
    "\n",
    "- Часто приводить вашу задачу к стандартному виду с предыдущего слайда неудобно\n",
    "- Поэтому лучше для конкретной задачи приводить её руками к виду, который допускает применение ADMM\n",
    "- Выписать аналитически все решения вспомогательных задач\n",
    "- Реализовать их вычисления наиболее оптимальным образом (сделать факторизации матриц, которые не меняются с итерациями)"
   ]
  },
  {
   "cell_type": "markdown",
   "metadata": {
    "slideshow": {
     "slide_type": "slide"
    }
   },
   "source": [
    "## Задача линейного программирования\n",
    "\n",
    "\\begin{align*}\n",
    "& \\min c^{\\top}x\\\\\n",
    "\\text{s.t. } & Ax = b\\\\\n",
    "& x \\geq 0\n",
    "\\end{align*}\n",
    "\n",
    "- Модифицированный лагранжиан\n",
    "\n",
    "$$\n",
    "L_{\\rho}(x, z, \\lambda) = c^{\\top}x + I_{z \\geq 0}(z) + \\lambda^{\\top}(x - z) + \\frac{\\rho}{2}\\|x - z\\|_2^2,\n",
    "$$\n",
    "\n",
    "где $c^{\\top}x$ определена на множестве $Ax = b$.\n",
    "\n",
    "- Шаг обновления по $x$ примет вид\n",
    "\n",
    "$$\n",
    "x_{k+1} = \\arg\\min_{x: \\; Ax = b} c^{\\top}x +\\lambda_k^{\\top}x + \\frac{\\rho}{2}\\|x - z_k\\|_2^2\n",
    "$$\n",
    "\n",
    "- Получим систему из условий оптимальности\n",
    "\n",
    "$$\n",
    "\\begin{bmatrix}\n",
    "\\rho I & A^{\\top} \\\\\n",
    "A & 0\n",
    "\\end{bmatrix}\n",
    "\\begin{bmatrix}\n",
    "x_{k+1}\\\\\n",
    "\\mu\n",
    "\\end{bmatrix}\n",
    "= \n",
    "\\begin{bmatrix}\n",
    "-\\lambda_k - c + \\rho z_k\\\\\n",
    "b\n",
    "\\end{bmatrix}\n",
    "$$"
   ]
  },
  {
   "cell_type": "code",
   "execution_count": 76,
   "metadata": {
    "slideshow": {
     "slide_type": "slide"
    }
   },
   "outputs": [
    {
     "name": "stdout",
     "output_type": "stream",
     "text": [
      "     con: array([ 1.11022302e-16,  5.55111512e-16,  1.11022302e-16,  0.00000000e+00,\n",
      "        4.44089210e-16,  0.00000000e+00,  2.22044605e-16,  1.11022302e-16,\n",
      "       -1.11022302e-16, -1.11022302e-16])\n",
      "     fun: 0.1655703224160603\n",
      " message: 'Optimization terminated successfully.'\n",
      "     nit: 28\n",
      "   slack: array([], dtype=float64)\n",
      "  status: 0\n",
      " success: True\n",
      "       x: array([0.        , 0.        , 0.        , 0.        , 0.        ,\n",
      "       0.        , 0.        , 0.        , 0.        , 0.        ,\n",
      "       0.        , 0.        , 0.        , 0.        , 0.        ,\n",
      "       0.        , 0.        , 0.        , 0.        , 0.        ,\n",
      "       0.        , 0.        , 0.        , 0.        , 0.        ,\n",
      "       0.        , 0.        , 0.        , 0.        , 0.        ,\n",
      "       0.        , 0.        , 0.        , 0.        , 0.        ,\n",
      "       0.        , 0.        , 0.        , 0.        , 0.        ,\n",
      "       0.        , 0.        , 0.        , 0.        , 0.        ,\n",
      "       0.        , 0.        , 0.        , 0.        , 0.        ,\n",
      "       0.        , 0.        , 0.        , 0.        , 0.        ,\n",
      "       0.        , 0.        , 0.        , 0.        , 0.        ,\n",
      "       0.        , 0.        , 0.        , 0.        , 0.        ,\n",
      "       0.        , 0.        , 0.        , 0.07852143, 0.        ,\n",
      "       0.        , 0.        , 0.        , 0.        , 0.        ,\n",
      "       0.2963578 , 0.        , 0.        , 0.        , 0.01497113,\n",
      "       0.        , 0.        , 0.        , 0.        , 0.        ,\n",
      "       0.51230113, 0.        , 0.        , 0.        , 0.        ,\n",
      "       0.        , 0.        , 0.        , 0.        , 0.        ,\n",
      "       0.        , 0.        , 0.        , 0.        , 0.        ,\n",
      "       0.13331708, 0.        , 0.        , 0.        , 0.        ,\n",
      "       0.28925005, 0.        , 0.        , 0.        , 0.        ,\n",
      "       0.        , 0.        , 0.        , 0.        , 0.        ,\n",
      "       0.        , 0.        , 0.        , 0.        , 0.        ,\n",
      "       0.        , 0.        , 0.        , 0.        , 0.        ,\n",
      "       0.        , 0.        , 0.        , 0.        , 0.        ,\n",
      "       0.        , 0.        , 0.        , 0.        , 0.        ,\n",
      "       0.        , 0.        , 0.06359112, 0.        , 0.        ,\n",
      "       0.        , 0.        , 0.        , 0.        , 0.        ,\n",
      "       0.        , 0.        , 0.        , 0.        , 0.        ,\n",
      "       0.        , 0.        , 0.        , 0.        , 0.        ,\n",
      "       0.        , 0.        , 0.        , 0.        , 0.        ,\n",
      "       0.        , 0.        , 0.        , 0.        , 0.        ,\n",
      "       0.        , 0.        , 0.        , 0.        , 0.        ,\n",
      "       0.        , 0.        , 0.08137881, 0.        , 0.        ,\n",
      "       0.01632185, 0.        , 0.        , 0.18206073, 0.        ,\n",
      "       0.        , 0.        , 0.        , 0.        , 0.        ,\n",
      "       0.        , 0.        , 0.        , 0.        , 0.        ,\n",
      "       0.        , 0.        , 0.        , 0.        , 0.        ,\n",
      "       0.        , 0.        , 0.        , 0.        , 0.        ])\n"
     ]
    }
   ],
   "source": [
    "import scipy.optimize as scopt\n",
    "\n",
    "m, n = 10, 200\n",
    "A = np.random.rand(m, n)\n",
    "b = np.random.rand(m)\n",
    "c = np.random.rand(n)\n",
    "\n",
    "scipy_linprog_conv = []\n",
    "def callback_splin(cur_res):\n",
    "    scipy_linprog_conv.append(cur_res)\n",
    "    \n",
    "res = scopt.linprog(c, A_eq=A, b_eq=b, \n",
    "                    bounds=[(0, None) for i in range(n)],\n",
    "                    callback=callback_splin, method=\"simplex\")\n",
    "print(res)"
   ]
  },
  {
   "cell_type": "code",
   "execution_count": 77,
   "metadata": {
    "slideshow": {
     "slide_type": "slide"
    }
   },
   "outputs": [],
   "source": [
    "def update_x_admm(x, z, lam, A, b):\n",
    "    n = x.shape[0]\n",
    "    m = A.shape[0]\n",
    "    C = np.block([[rho * np.eye(n), A.T], [A, np.zeros((m, m))]])\n",
    "    rhs = np.block([-lam - c + rho * z, b])\n",
    "    return np.linalg.solve(C, rhs)[:n]\n",
    "\n",
    "def update_z_admm(x, z, lam, A, b):\n",
    "    x_hat = lam / rho + x\n",
    "    return np.clip(x_hat, 0, np.max(x_hat))"
   ]
  },
  {
   "cell_type": "code",
   "execution_count": 90,
   "metadata": {
    "slideshow": {
     "slide_type": "slide"
    }
   },
   "outputs": [
    {
     "name": "stdout",
     "output_type": "stream",
     "text": [
      "-0.004469552138337579\n"
     ]
    }
   ],
   "source": [
    "x0 = np.random.randn(n)\n",
    "z0 = np.random.randn(n)\n",
    "lam0 = np.random.randn(n)\n",
    "rho = 1\n",
    "max_iter = 100\n",
    "\n",
    "x_admm, z_admm, lam_admm, conv_x_admm, conv_z_admm, conv_lam_admm = admm(update_x_admm, \n",
    "                                                                         update_z_admm, \n",
    "                                                                         rho, x0, z0, lam0,\n",
    "                                                                         max_iter=max_iter)\n",
    "print(res.fun - c @ x_admm)"
   ]
  },
  {
   "cell_type": "code",
   "execution_count": 91,
   "metadata": {
    "slideshow": {
     "slide_type": "slide"
    }
   },
   "outputs": [
    {
     "name": "stdout",
     "output_type": "stream",
     "text": [
      "0.004469552138337579 0.3102567257353814\n"
     ]
    }
   ],
   "source": [
    "print(c @ x_admm - res.fun, np.linalg.norm(x_admm - res.x))"
   ]
  },
  {
   "cell_type": "code",
   "execution_count": 92,
   "metadata": {
    "slideshow": {
     "slide_type": "slide"
    }
   },
   "outputs": [
    {
     "data": {
      "image/png": "[encoded data removed]",
      "text/plain": [
       "<Figure size 720x576 with 1 Axes>"
      ]
     },
     "metadata": {},
     "output_type": "display_data"
    }
   ],
   "source": [
    "plt.figure(figsize=(10, 8))\n",
    "plt.plot([c @ x for x in conv_x_admm], label=\"ADMM\")\n",
    "plt.plot([c @ res.x for res in scipy_linprog_conv], label=\"Scipy\")\n",
    "plt.legend(fontsize=20)\n",
    "plt.grid(True)\n",
    "plt.xlabel(\"\\# iterations\", fontsize=20)\n",
    "plt.ylabel(\"$c^{\\\\top}x_k$\", fontsize=20)\n",
    "plt.yticks(fontsize=20)\n",
    "plt.xticks(fontsize=20)\n",
    "plt.xscale(\"log\")"
   ]
  },
  {
   "cell_type": "markdown",
   "metadata": {
    "slideshow": {
     "slide_type": "slide"
    }
   },
   "source": [
    "## Комментарии\n",
    "\n",
    "- Сходимость по итерациям медленнее, но стоимость одной итерации также меньше\n",
    "- Основной выигрыш при использовании ADMM в получении не очень точного решения **параллельно** и очень быстро\n",
    "- Различные способы представления задачи в виде, пригодном для использования ADMM, порождают различные методы, которые имеют различные свойства\n",
    "- Например в [этой](https://papers.nips.cc/paper/6746-a-new-alternating-direction-method-for-linear-programming.pdf) статье предлагается альтернативный способ решения задачи линейного программирования через ADMM\n",
    "- [Метод SCS](https://stanford.edu/~boyd/papers/pdf/scs_long.pdf), используемый по умолчанию в CVXPy, основан на применении ADMM к коническому представлению исходной задачи "
   ]
  }
 ],
 "metadata": {
  "celltoolbar": "Slideshow",
  "kernelspec": {
   "display_name": "Python 3 (cvxpy)",
   "language": "python",
   "name": "cvxpy"
  },
  "language_info": {
   "codemirror_mode": {
    "name": "ipython",
    "version": 3
   },
   "file_extension": ".py",
   "mimetype": "text/x-python",
   "name": "python",
   "nbconvert_exporter": "python",
   "pygments_lexer": "ipython3",
   "version": "3.6.8"
  }
 },
 "nbformat": 4,
 "nbformat_minor": 4
}
